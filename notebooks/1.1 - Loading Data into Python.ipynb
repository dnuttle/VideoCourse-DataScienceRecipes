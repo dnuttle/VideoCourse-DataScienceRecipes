{
 "cells": [
  {
   "cell_type": "markdown",
   "metadata": {},
   "source": [
    "## 1.1 Loading Data into Python"
   ]
  },
  {
   "cell_type": "markdown",
   "metadata": {},
   "source": [
    "### Opening and reading files"
   ]
  },
  {
   "cell_type": "code",
   "execution_count": 1,
   "metadata": {},
   "outputs": [
    {
     "name": "stdout",
     "output_type": "stream",
     "text": [
      "This is some file\r\n",
      "It has a few line\r\n",
      "This is the last line\r\n"
     ]
    }
   ],
   "source": [
    "%cat some_file.txt"
   ]
  },
  {
   "cell_type": "code",
   "execution_count": 2,
   "metadata": {},
   "outputs": [
    {
     "name": "stdout",
     "output_type": "stream",
     "text": [
      "This is some file\n",
      "It has a few line\n",
      "This is the last line\n",
      "\n"
     ]
    }
   ],
   "source": [
    "fname = 'some_file.txt'\n",
    "\n",
    "f = open(fname, 'r')\n",
    "content = f.read()\n",
    "f.close()\n",
    "\n",
    "print(content)"
   ]
  },
  {
   "cell_type": "code",
   "execution_count": 3,
   "metadata": {},
   "outputs": [
    {
     "name": "stdout",
     "output_type": "stream",
     "text": [
      "This is some file\n",
      "It has a few line\n",
      "This is the last line\n",
      "\n"
     ]
    }
   ],
   "source": [
    "fname = 'some_file.txt'\n",
    "with open(fname, 'r') as f:\n",
    "    content = f.read()\n",
    "\n",
    "print(content)"
   ]
  },
  {
   "cell_type": "code",
   "execution_count": 4,
   "metadata": {},
   "outputs": [
    {
     "name": "stdout",
     "output_type": "stream",
     "text": [
      "['This is some file\\n', 'It has a few line\\n', 'This is the last line\\n']\n"
     ]
    }
   ],
   "source": [
    "fname = 'some_file.txt'\n",
    "with open(fname, 'r') as f:\n",
    "    content = f.readlines()\n",
    "\n",
    "print(content)"
   ]
  },
  {
   "cell_type": "code",
   "execution_count": 5,
   "metadata": {
    "scrolled": true
   },
   "outputs": [
    {
     "name": "stdout",
     "output_type": "stream",
     "text": [
      "This is some file\n",
      "\n",
      "It has a few line\n",
      "\n",
      "This is the last line\n",
      "\n"
     ]
    }
   ],
   "source": [
    "fname = 'some_file.txt'\n",
    "with open(fname, 'r') as f:\n",
    "    for line in f:\n",
    "        print(line)"
   ]
  },
  {
   "cell_type": "code",
   "execution_count": 6,
   "metadata": {},
   "outputs": [
    {
     "name": "stdout",
     "output_type": "stream",
     "text": [
      "Line 0: This is some file\n",
      "Line 1: It has a few line\n",
      "Line 2: This is the last line\n"
     ]
    }
   ],
   "source": [
    "fname = 'some_file.txt'\n",
    "with open(fname, 'r') as f:\n",
    "    for i, line in enumerate(f):\n",
    "        print(\"Line {}: {}\".format(i, line.strip()))"
   ]
  },
  {
   "cell_type": "markdown",
   "metadata": {},
   "source": [
    "### JSON\n",
    "\n",
    "JavaScript Object Notation\n",
    "\n",
    "Good for data serialization and communication between services"
   ]
  },
  {
   "cell_type": "code",
   "execution_count": 7,
   "metadata": {},
   "outputs": [
    {
     "name": "stdout",
     "output_type": "stream",
     "text": [
      "{\r\n",
      "    \"title\": \"Fight Club\",\r\n",
      "    \"watched\": true,\r\n",
      "    \"year\": 1999,\r\n",
      "    \"actors\": [\r\n",
      "        \"Brad Pitt\",\r\n",
      "        \"Edward Norton\",\r\n",
      "        \"Helena Bonham Carter\"\r\n",
      "    ]\r\n",
      "}"
     ]
    }
   ],
   "source": [
    "%cat movie.json"
   ]
  },
  {
   "cell_type": "code",
   "execution_count": 8,
   "metadata": {},
   "outputs": [
    {
     "data": {
      "text/plain": [
       "{u'actors': [u'Brad Pitt', u'Edward Norton', u'Helena Bonham Carter'],\n",
       " u'title': u'Fight Club',\n",
       " u'watched': True,\n",
       " u'year': 1999}"
      ]
     },
     "execution_count": 8,
     "metadata": {},
     "output_type": "execute_result"
    }
   ],
   "source": [
    "import json\n",
    "\n",
    "fname = 'movie.json'\n",
    "with open(fname, 'r') as f:\n",
    "    content = f.read()\n",
    "    movie = json.loads(content)\n",
    "\n",
    "movie"
   ]
  },
  {
   "cell_type": "code",
   "execution_count": 9,
   "metadata": {},
   "outputs": [],
   "source": [
    "import json\n",
    "\n",
    "fname = 'movie.json'\n",
    "with open(fname, 'r') as f:\n",
    "    movie_alt = json.load(f)"
   ]
  },
  {
   "cell_type": "code",
   "execution_count": 10,
   "metadata": {},
   "outputs": [
    {
     "data": {
      "text/plain": [
       "True"
      ]
     },
     "execution_count": 10,
     "metadata": {},
     "output_type": "execute_result"
    }
   ],
   "source": [
    "movie == movie_alt"
   ]
  },
  {
   "cell_type": "code",
   "execution_count": 11,
   "metadata": {},
   "outputs": [
    {
     "name": "stdout",
     "output_type": "stream",
     "text": [
      "{\n",
      "    \"watched\": true, \n",
      "    \"year\": 1999, \n",
      "    \"actors\": [\n",
      "        \"Brad Pitt\", \n",
      "        \"Edward Norton\", \n",
      "        \"Helena Bonham Carter\"\n",
      "    ], \n",
      "    \"title\": \"Fight Club\"\n",
      "}\n"
     ]
    }
   ],
   "source": [
    "print(json.dumps(movie, indent=4))"
   ]
  },
  {
   "cell_type": "code",
   "execution_count": 12,
   "metadata": {},
   "outputs": [
    {
     "name": "stdout",
     "output_type": "stream",
     "text": [
      "{\"title\": \"Fight Club\", \"year\": 1999, \"actors\": [\"Brad Pitt\", \"Edward Norton\", \"Helena Bonham Carter\"], \"watched\": true}\r\n",
      "{\"title\": \"Goodfellas\", \"year\": 1990, \"actors\": [\"Robert De Niro\", \"Ray Liotta\", \"Joe Pesci\"], \"watched\": true}\r\n",
      "{\"title\": \"Forrest Gump\", \"year\": 1994, \"actors\": [\"Tom Hanks\", \"Robin Wright\"], \"watched\": true}\r\n",
      "\r\n"
     ]
    }
   ],
   "source": [
    "%cat movies-90s.jsonl"
   ]
  },
  {
   "cell_type": "code",
   "execution_count": 13,
   "metadata": {},
   "outputs": [
    {
     "name": "stdout",
     "output_type": "stream",
     "text": [
      "Fight Club\n",
      "Goodfellas\n",
      "Forrest Gump\n"
     ]
    }
   ],
   "source": [
    "import json\n",
    "\n",
    "fname = 'movies-90s.jsonl'\n",
    "\n",
    "with open(fname, 'r') as f:\n",
    "    for line in f:\n",
    "        try:\n",
    "            movie = json.loads(line)\n",
    "            print(movie['title'])\n",
    "        except: \n",
    "            #...\n",
    "            pass\n"
   ]
  },
  {
   "cell_type": "markdown",
   "metadata": {},
   "source": [
    "### CSV files\n",
    "\n",
    "Comma Separated Values\n",
    "\n",
    "This format is very common for import/export for spreadsheet and databases"
   ]
  },
  {
   "cell_type": "code",
   "execution_count": 14,
   "metadata": {},
   "outputs": [
    {
     "name": "stdout",
     "output_type": "stream",
     "text": [
      "\"NAME\",\"AGE\",\"LANGUAGE\"\r\n",
      "\"Alice\",30,\"English\"\r\n",
      "\"Bob\",25,\"Spanish\"\r\n",
      "\"Charlie\",35,\"French\"\r\n"
     ]
    }
   ],
   "source": [
    "%cat data.csv"
   ]
  },
  {
   "cell_type": "code",
   "execution_count": 15,
   "metadata": {},
   "outputs": [
    {
     "name": "stdout",
     "output_type": "stream",
     "text": [
      "Headers = ['NAME', 'AGE', 'LANGUAGE']\n",
      "['Alice', '30', 'English']\n",
      "['Bob', '25', 'Spanish']\n",
      "['Charlie', '35', 'French']\n"
     ]
    }
   ],
   "source": [
    "import csv\n",
    "\n",
    "fname = 'data.csv'\n",
    "\n",
    "with open(fname, 'r') as f:\n",
    "    data_reader = csv.reader(f, delimiter=',')\n",
    "    headers = next(data_reader)\n",
    "    print(\"Headers = {}\".format(headers))\n",
    "    for line in data_reader:\n",
    "        print(line)"
   ]
  },
  {
   "cell_type": "code",
   "execution_count": 16,
   "metadata": {},
   "outputs": [
    {
     "name": "stdout",
     "output_type": "stream",
     "text": [
      "['Alice', '30', 'English']\n",
      "['Bob', '25', 'Spanish']\n",
      "['Charlie', '35', 'French']\n"
     ]
    }
   ],
   "source": [
    "fname = 'data_no_header.csv'\n",
    "\n",
    "with open(fname, 'r') as f:\n",
    "    data_reader = csv.reader(f, delimiter=',')\n",
    "    for line in data_reader:\n",
    "        print(line)"
   ]
  },
  {
   "cell_type": "code",
   "execution_count": 17,
   "metadata": {},
   "outputs": [
    {
     "data": {
      "text/plain": [
       "[{'AGE': '30', 'LANGUAGE': 'English', 'NAME': 'Alice'},\n",
       " {'AGE': '25', 'LANGUAGE': 'Spanish', 'NAME': 'Bob'},\n",
       " {'AGE': '35', 'LANGUAGE': 'French', 'NAME': 'Charlie'}]"
      ]
     },
     "execution_count": 17,
     "metadata": {},
     "output_type": "execute_result"
    }
   ],
   "source": [
    "fname = 'data.csv'\n",
    "\n",
    "with open(fname, 'r') as f:\n",
    "    data_reader = csv.reader(f, delimiter=',')\n",
    "    headers = next(data_reader)\n",
    "    data = []\n",
    "    for line in data_reader:\n",
    "        item = {headers[i]: value for i, value in enumerate(line)}\n",
    "        data.append(item)\n",
    "\n",
    "data"
   ]
  },
  {
   "cell_type": "markdown",
   "metadata": {},
   "source": [
    "### Pickles: Python object serialization"
   ]
  },
  {
   "cell_type": "code",
   "execution_count": 18,
   "metadata": {},
   "outputs": [
    {
     "data": {
      "text/plain": [
       "{u'actors': [u'Brad Pitt', u'Edward Norton', u'Helena Bonham Carter'],\n",
       " u'title': u'Fight Club',\n",
       " u'watched': True,\n",
       " u'year': 1999}"
      ]
     },
     "execution_count": 18,
     "metadata": {},
     "output_type": "execute_result"
    }
   ],
   "source": [
    "with open('movie.json', 'r') as f:\n",
    "    content = f.read()\n",
    "    data = json.loads(content)\n",
    "\n",
    "data"
   ]
  },
  {
   "cell_type": "code",
   "execution_count": 19,
   "metadata": {},
   "outputs": [
    {
     "data": {
      "text/plain": [
       "dict"
      ]
     },
     "execution_count": 19,
     "metadata": {},
     "output_type": "execute_result"
    }
   ],
   "source": [
    "type(data)"
   ]
  },
  {
   "cell_type": "code",
   "execution_count": 20,
   "metadata": {},
   "outputs": [],
   "source": [
    "import pickle \n",
    "\n",
    "with open('data.pickle', 'wb') as f:\n",
    "    pickle.dump(data, f)"
   ]
  },
  {
   "cell_type": "code",
   "execution_count": 21,
   "metadata": {},
   "outputs": [
    {
     "name": "stdout",
     "output_type": "stream",
     "text": [
      "(dp0\r\n",
      "Vwatched\r\n",
      "p1\r\n",
      "I01\r\n",
      "sVyear\r\n",
      "p2\r\n",
      "I1999\r\n",
      "sVactors\r\n",
      "p3\r\n",
      "(lp4\r\n",
      "VBrad Pitt\r\n",
      "p5\r\n",
      "aVEdward Norton\r\n",
      "p6\r\n",
      "aVHelena Bonham Carter\r\n",
      "p7\r\n",
      "asVtitle\r\n",
      "p8\r\n",
      "VFight Club\r\n",
      "p9\r\n",
      "s."
     ]
    }
   ],
   "source": [
    "%cat data.pickle"
   ]
  },
  {
   "cell_type": "code",
   "execution_count": 22,
   "metadata": {},
   "outputs": [
    {
     "data": {
      "text/plain": [
       "{u'actors': [u'Brad Pitt', u'Edward Norton', u'Helena Bonham Carter'],\n",
       " u'title': u'Fight Club',\n",
       " u'watched': True,\n",
       " u'year': 1999}"
      ]
     },
     "execution_count": 22,
     "metadata": {},
     "output_type": "execute_result"
    }
   ],
   "source": [
    "with open('data.pickle', 'rb') as f:\n",
    "    data = pickle.load(f)\n",
    "\n",
    "data"
   ]
  },
  {
   "cell_type": "code",
   "execution_count": 23,
   "metadata": {},
   "outputs": [
    {
     "data": {
      "text/plain": [
       "dict"
      ]
     },
     "execution_count": 23,
     "metadata": {},
     "output_type": "execute_result"
    }
   ],
   "source": [
    "type(data)"
   ]
  },
  {
   "cell_type": "markdown",
   "metadata": {
    "collapsed": true
   },
   "source": [
    "### Loading JSON and CSV into pandas"
   ]
  },
  {
   "cell_type": "code",
   "execution_count": 24,
   "metadata": {},
   "outputs": [],
   "source": [
    "import pandas as pd"
   ]
  },
  {
   "cell_type": "code",
   "execution_count": 25,
   "metadata": {},
   "outputs": [
    {
     "name": "stdout",
     "output_type": "stream",
     "text": [
      "{\r\n",
      "    \"title\": \"Fight Club\",\r\n",
      "    \"watched\": true,\r\n",
      "    \"year\": 1999,\r\n",
      "    \"actors\": [\r\n",
      "        \"Brad Pitt\",\r\n",
      "        \"Edward Norton\",\r\n",
      "        \"Helena Bonham Carter\"\r\n",
      "    ]\r\n",
      "}"
     ]
    }
   ],
   "source": [
    "%cat movie.json"
   ]
  },
  {
   "cell_type": "code",
   "execution_count": 26,
   "metadata": {},
   "outputs": [
    {
     "data": {
      "text/html": [
       "<div>\n",
       "<style scoped>\n",
       "    .dataframe tbody tr th:only-of-type {\n",
       "        vertical-align: middle;\n",
       "    }\n",
       "\n",
       "    .dataframe tbody tr th {\n",
       "        vertical-align: top;\n",
       "    }\n",
       "\n",
       "    .dataframe thead th {\n",
       "        text-align: right;\n",
       "    }\n",
       "</style>\n",
       "<table border=\"1\" class=\"dataframe\">\n",
       "  <thead>\n",
       "    <tr style=\"text-align: right;\">\n",
       "      <th></th>\n",
       "      <th>actors</th>\n",
       "      <th>title</th>\n",
       "      <th>watched</th>\n",
       "      <th>year</th>\n",
       "    </tr>\n",
       "  </thead>\n",
       "  <tbody>\n",
       "    <tr>\n",
       "      <th>0</th>\n",
       "      <td>Brad Pitt</td>\n",
       "      <td>Fight Club</td>\n",
       "      <td>True</td>\n",
       "      <td>1999</td>\n",
       "    </tr>\n",
       "    <tr>\n",
       "      <th>1</th>\n",
       "      <td>Edward Norton</td>\n",
       "      <td>Fight Club</td>\n",
       "      <td>True</td>\n",
       "      <td>1999</td>\n",
       "    </tr>\n",
       "    <tr>\n",
       "      <th>2</th>\n",
       "      <td>Helena Bonham Carter</td>\n",
       "      <td>Fight Club</td>\n",
       "      <td>True</td>\n",
       "      <td>1999</td>\n",
       "    </tr>\n",
       "  </tbody>\n",
       "</table>\n",
       "</div>"
      ],
      "text/plain": [
       "                 actors       title  watched  year\n",
       "0             Brad Pitt  Fight Club     True  1999\n",
       "1         Edward Norton  Fight Club     True  1999\n",
       "2  Helena Bonham Carter  Fight Club     True  1999"
      ]
     },
     "execution_count": 26,
     "metadata": {},
     "output_type": "execute_result"
    }
   ],
   "source": [
    "data = pd.read_json('movie.json')\n",
    "data.head()"
   ]
  },
  {
   "cell_type": "code",
   "execution_count": 27,
   "metadata": {},
   "outputs": [
    {
     "name": "stdout",
     "output_type": "stream",
     "text": [
      "{\"title\": \"Fight Club\", \"year\": 1999, \"actors\": [\"Brad Pitt\", \"Edward Norton\", \"Helena Bonham Carter\"], \"watched\": true}\r\n",
      "{\"title\": \"Goodfellas\", \"year\": 1990, \"actors\": [\"Robert De Niro\", \"Ray Liotta\", \"Joe Pesci\"], \"watched\": true}\r\n",
      "{\"title\": \"Forrest Gump\", \"year\": 1994, \"actors\": [\"Tom Hanks\", \"Robin Wright\"], \"watched\": true}\r\n",
      "\r\n"
     ]
    }
   ],
   "source": [
    "%cat movies-90s.jsonl"
   ]
  },
  {
   "cell_type": "code",
   "execution_count": 28,
   "metadata": {},
   "outputs": [
    {
     "data": {
      "text/html": [
       "<div>\n",
       "<style scoped>\n",
       "    .dataframe tbody tr th:only-of-type {\n",
       "        vertical-align: middle;\n",
       "    }\n",
       "\n",
       "    .dataframe tbody tr th {\n",
       "        vertical-align: top;\n",
       "    }\n",
       "\n",
       "    .dataframe thead th {\n",
       "        text-align: right;\n",
       "    }\n",
       "</style>\n",
       "<table border=\"1\" class=\"dataframe\">\n",
       "  <thead>\n",
       "    <tr style=\"text-align: right;\">\n",
       "      <th></th>\n",
       "      <th>actors</th>\n",
       "      <th>title</th>\n",
       "      <th>watched</th>\n",
       "      <th>year</th>\n",
       "    </tr>\n",
       "  </thead>\n",
       "  <tbody>\n",
       "    <tr>\n",
       "      <th>0</th>\n",
       "      <td>[Brad Pitt, Edward Norton, Helena Bonham Carter]</td>\n",
       "      <td>Fight Club</td>\n",
       "      <td>True</td>\n",
       "      <td>1999</td>\n",
       "    </tr>\n",
       "    <tr>\n",
       "      <th>1</th>\n",
       "      <td>[Robert De Niro, Ray Liotta, Joe Pesci]</td>\n",
       "      <td>Goodfellas</td>\n",
       "      <td>True</td>\n",
       "      <td>1990</td>\n",
       "    </tr>\n",
       "    <tr>\n",
       "      <th>2</th>\n",
       "      <td>[Tom Hanks, Robin Wright]</td>\n",
       "      <td>Forrest Gump</td>\n",
       "      <td>True</td>\n",
       "      <td>1994</td>\n",
       "    </tr>\n",
       "  </tbody>\n",
       "</table>\n",
       "</div>"
      ],
      "text/plain": [
       "                                             actors         title  watched  \\\n",
       "0  [Brad Pitt, Edward Norton, Helena Bonham Carter]    Fight Club     True   \n",
       "1           [Robert De Niro, Ray Liotta, Joe Pesci]    Goodfellas     True   \n",
       "2                         [Tom Hanks, Robin Wright]  Forrest Gump     True   \n",
       "\n",
       "   year  \n",
       "0  1999  \n",
       "1  1990  \n",
       "2  1994  "
      ]
     },
     "execution_count": 28,
     "metadata": {},
     "output_type": "execute_result"
    }
   ],
   "source": [
    "data = pd.read_json('movies-90s.jsonl', lines=True)\n",
    "data.head()"
   ]
  },
  {
   "cell_type": "code",
   "execution_count": 29,
   "metadata": {},
   "outputs": [
    {
     "name": "stdout",
     "output_type": "stream",
     "text": [
      "\"NAME\",\"AGE\",\"LANGUAGE\"\r\n",
      "\"Alice\",30,\"English\"\r\n",
      "\"Bob\",25,\"Spanish\"\r\n",
      "\"Charlie\",35,\"French\"\r\n"
     ]
    }
   ],
   "source": [
    "%cat data.csv"
   ]
  },
  {
   "cell_type": "code",
   "execution_count": 30,
   "metadata": {},
   "outputs": [
    {
     "data": {
      "text/html": [
       "<div>\n",
       "<style scoped>\n",
       "    .dataframe tbody tr th:only-of-type {\n",
       "        vertical-align: middle;\n",
       "    }\n",
       "\n",
       "    .dataframe tbody tr th {\n",
       "        vertical-align: top;\n",
       "    }\n",
       "\n",
       "    .dataframe thead th {\n",
       "        text-align: right;\n",
       "    }\n",
       "</style>\n",
       "<table border=\"1\" class=\"dataframe\">\n",
       "  <thead>\n",
       "    <tr style=\"text-align: right;\">\n",
       "      <th></th>\n",
       "      <th>NAME</th>\n",
       "      <th>AGE</th>\n",
       "      <th>LANGUAGE</th>\n",
       "    </tr>\n",
       "  </thead>\n",
       "  <tbody>\n",
       "    <tr>\n",
       "      <th>0</th>\n",
       "      <td>Alice</td>\n",
       "      <td>30</td>\n",
       "      <td>English</td>\n",
       "    </tr>\n",
       "    <tr>\n",
       "      <th>1</th>\n",
       "      <td>Bob</td>\n",
       "      <td>25</td>\n",
       "      <td>Spanish</td>\n",
       "    </tr>\n",
       "    <tr>\n",
       "      <th>2</th>\n",
       "      <td>Charlie</td>\n",
       "      <td>35</td>\n",
       "      <td>French</td>\n",
       "    </tr>\n",
       "  </tbody>\n",
       "</table>\n",
       "</div>"
      ],
      "text/plain": [
       "      NAME  AGE LANGUAGE\n",
       "0    Alice   30  English\n",
       "1      Bob   25  Spanish\n",
       "2  Charlie   35   French"
      ]
     },
     "execution_count": 30,
     "metadata": {},
     "output_type": "execute_result"
    }
   ],
   "source": [
    "data = pd.read_csv('data.csv')\n",
    "data.head()"
   ]
  },
  {
   "cell_type": "code",
   "execution_count": null,
   "metadata": {},
   "outputs": [],
   "source": []
  }
 ],
 "metadata": {
  "kernelspec": {
   "display_name": "Python 2",
   "language": "python",
   "name": "python2"
  },
  "language_info": {
   "codemirror_mode": {
    "name": "ipython",
    "version": 2
   },
   "file_extension": ".py",
   "mimetype": "text/x-python",
   "name": "python",
   "nbconvert_exporter": "python",
   "pygments_lexer": "ipython2",
   "version": "2.7.13"
  }
 },
 "nbformat": 4,
 "nbformat_minor": 2
}
