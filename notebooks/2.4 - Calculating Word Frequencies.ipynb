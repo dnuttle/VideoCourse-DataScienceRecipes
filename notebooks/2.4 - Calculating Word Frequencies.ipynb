{
 "cells": [
  {
   "cell_type": "markdown",
   "metadata": {},
   "source": [
    "## 2.4 - Calculating Word Frequencies"
   ]
  },
  {
   "cell_type": "markdown",
   "metadata": {},
   "source": [
    "#### Get the data\n",
    "\n",
    "`$ python -m nltk.downloader moview_reviews`"
   ]
  },
  {
   "cell_type": "code",
   "execution_count": 1,
   "metadata": {},
   "outputs": [],
   "source": [
    "from nltk.corpus import movie_reviews"
   ]
  },
  {
   "cell_type": "code",
   "execution_count": 5,
   "metadata": {},
   "outputs": [
    {
     "data": {
      "text/plain": [
       "[u'neg/cv000_29416.txt',\n",
       " u'neg/cv001_19502.txt',\n",
       " u'neg/cv002_17424.txt',\n",
       " u'neg/cv003_12683.txt',\n",
       " u'neg/cv004_12641.txt',\n",
       " u'neg/cv005_29357.txt',\n",
       " u'neg/cv006_17022.txt',\n",
       " u'neg/cv007_4992.txt',\n",
       " u'neg/cv008_29326.txt',\n",
       " u'neg/cv009_29417.txt']"
      ]
     },
     "execution_count": 5,
     "metadata": {},
     "output_type": "execute_result"
    }
   ],
   "source": [
    "movie_reviews.fileids()[0:10]"
   ]
  },
  {
   "cell_type": "code",
   "execution_count": 6,
   "metadata": {},
   "outputs": [
    {
     "data": {
      "text/plain": [
       "2000"
      ]
     },
     "execution_count": 6,
     "metadata": {},
     "output_type": "execute_result"
    }
   ],
   "source": [
    "len(movie_reviews.fileids())"
   ]
  },
  {
   "cell_type": "code",
   "execution_count": 10,
   "metadata": {},
   "outputs": [
    {
     "data": {
      "text/plain": [
       "list"
      ]
     },
     "execution_count": 10,
     "metadata": {},
     "output_type": "execute_result"
    }
   ],
   "source": [
    "type(movie_reviews.fileids())"
   ]
  },
  {
   "cell_type": "code",
   "execution_count": 11,
   "metadata": {},
   "outputs": [
    {
     "data": {
      "text/plain": [
       "(1000, 1000)"
      ]
     },
     "execution_count": 11,
     "metadata": {},
     "output_type": "execute_result"
    }
   ],
   "source": [
    "len(movie_reviews.fileids('pos')), len(movie_reviews.fileids('neg'))"
   ]
  },
  {
   "cell_type": "code",
   "execution_count": 12,
   "metadata": {},
   "outputs": [],
   "source": [
    "pos_reviews = [movie_reviews.words(fileid)\n",
    "               for fileid in movie_reviews.fileids('pos')]\n",
    "\n",
    "neg_reviews = [movie_reviews.words(fileid)\n",
    "               for fileid in movie_reviews.fileids('neg')]"
   ]
  },
  {
   "cell_type": "markdown",
   "metadata": {},
   "source": [
    "#### Term frequencies"
   ]
  },
  {
   "cell_type": "code",
   "execution_count": 21,
   "metadata": {},
   "outputs": [
    {
     "name": "stdout",
     "output_type": "stream",
     "text": [
      "[('a', 2), ('b', 2), ('c', 1)]\n",
      "Counter({'abc': 3, 'ghi': 1, 'def': 1})\n",
      "Counter({1: 2, 2: 2, 3: 2, 4: 2, 'a': 1})\n"
     ]
    }
   ],
   "source": [
    "# Examples of Counter\n",
    "from collections import Counter\n",
    "# iterable in form of string: counts characters in the string\n",
    "c = Counter('abcdefab')\n",
    "print(c.most_common(3))\n",
    "\n",
    "# iterable in form of list: counts instances of values in the list\n",
    "c = Counter(['abc', 'def', 'abc', 'ghi', 'abc'])\n",
    "print(c)\n",
    "\n",
    "# the list can be heterogenous\n",
    "c = Counter([1, 2, 3, 1, 4, 2, 3, 4, 'a'])\n",
    "print(c)"
   ]
  },
  {
   "cell_type": "code",
   "execution_count": 22,
   "metadata": {},
   "outputs": [
    {
     "data": {
      "text/plain": [
       "[(u',', 45),\n",
       " (u'.', 44),\n",
       " (u'the', 44),\n",
       " (u'a', 39),\n",
       " (u'and', 20),\n",
       " (u'to', 17),\n",
       " (u'-', 17),\n",
       " (u'of', 17),\n",
       " (u'in', 16),\n",
       " (u'(', 15),\n",
       " (u')', 15),\n",
       " (u'\"', 14),\n",
       " (u'is', 14),\n",
       " (u'for', 12),\n",
       " (u'that', 11),\n",
       " (u'with', 8),\n",
       " (u'his', 7),\n",
       " (u'it', 7),\n",
       " (u'i', 7),\n",
       " (u'he', 6)]"
      ]
     },
     "execution_count": 22,
     "metadata": {},
     "output_type": "execute_result"
    }
   ],
   "source": [
    "one_review = pos_reviews[10]\n",
    "\n",
    "from collections import Counter\n",
    "c = Counter(one_review)\n",
    "\n",
    "c.most_common(20)"
   ]
  },
  {
   "cell_type": "code",
   "execution_count": null,
   "metadata": {},
   "outputs": [],
   "source": [
    "from nltk.corpus import stopwords\n",
    "from string import punctuation\n",
    "\n",
    "stop_list = stopwords.words('english') + list(punctuation)\n",
    "\n",
    "one_review_no_stop = [word for word in one_review if word not in stop_list]\n",
    "\n",
    "c = Counter(one_review_no_stop)\n",
    "\n",
    "c.most_common(20)"
   ]
  },
  {
   "cell_type": "markdown",
   "metadata": {},
   "source": [
    "#### Frequencies across the whole collection"
   ]
  },
  {
   "cell_type": "code",
   "execution_count": null,
   "metadata": {},
   "outputs": [],
   "source": [
    "from itertools import chain\n",
    "\n",
    "all_positive = list(chain(*pos_reviews))\n",
    "all_negative = list(chain(*neg_reviews))\n",
    "\n",
    "all_positive"
   ]
  },
  {
   "cell_type": "code",
   "execution_count": null,
   "metadata": {},
   "outputs": [],
   "source": [
    "total_freq = Counter(all_positive)\n",
    "\n",
    "total_freq.most_common(20)"
   ]
  },
  {
   "cell_type": "code",
   "execution_count": null,
   "metadata": {},
   "outputs": [],
   "source": [
    "all_positive_no_stop = [t for t in all_positive if t not in stop_list]\n",
    "all_negative_no_stop = [t for t in all_negative if t not in stop_list]\n",
    "\n",
    "total_freq_no_stop = Counter(all_positive_no_stop)\n",
    "\n",
    "total_freq_no_stop.most_common(20)"
   ]
  },
  {
   "cell_type": "code",
   "execution_count": null,
   "metadata": {},
   "outputs": [],
   "source": [
    "from nltk import FreqDist\n",
    "\n",
    "f = FreqDist(all_positive)\n",
    "\n",
    "f.most_common(20)"
   ]
  },
  {
   "cell_type": "code",
   "execution_count": null,
   "metadata": {},
   "outputs": [],
   "source": [
    "%matplotlib inline\n",
    "\n",
    "f.plot(30)"
   ]
  },
  {
   "cell_type": "code",
   "execution_count": null,
   "metadata": {},
   "outputs": [],
   "source": [
    "f = FreqDist(all_positive_no_stop)\n",
    "\n",
    "f.most_common(20)"
   ]
  },
  {
   "cell_type": "code",
   "execution_count": null,
   "metadata": {},
   "outputs": [],
   "source": [
    "f.plot(30)"
   ]
  },
  {
   "cell_type": "code",
   "execution_count": null,
   "metadata": {},
   "outputs": [],
   "source": [
    "f = FreqDist(all_negative)\n",
    "\n",
    "f.plot(30)"
   ]
  },
  {
   "cell_type": "code",
   "execution_count": null,
   "metadata": {},
   "outputs": [],
   "source": [
    "f = FreqDist(all_negative_no_stop)\n",
    "\n",
    "f.plot(30)"
   ]
  },
  {
   "cell_type": "markdown",
   "metadata": {},
   "source": [
    "#### Zipf's Law\n",
    "\n",
    "https://en.wikipedia.org/wiki/Zipf%27s_law"
   ]
  },
  {
   "cell_type": "code",
   "execution_count": null,
   "metadata": {
    "collapsed": true
   },
   "outputs": [],
   "source": []
  }
 ],
 "metadata": {
  "kernelspec": {
   "display_name": "Python 2",
   "language": "python",
   "name": "python2"
  },
  "language_info": {
   "codemirror_mode": {
    "name": "ipython",
    "version": 2
   },
   "file_extension": ".py",
   "mimetype": "text/x-python",
   "name": "python",
   "nbconvert_exporter": "python",
   "pygments_lexer": "ipython2",
   "version": "2.7.13"
  }
 },
 "nbformat": 4,
 "nbformat_minor": 2
}
